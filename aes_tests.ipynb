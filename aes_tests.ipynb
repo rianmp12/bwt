{
 "cells": [
  {
   "cell_type": "markdown",
   "metadata": {},
   "source": [
    "## Encryption test"
   ]
  },
  {
   "cell_type": "markdown",
   "metadata": {},
   "source": [
    "### Encrypt AES"
   ]
  },
  {
   "cell_type": "code",
   "execution_count": 4,
   "metadata": {},
   "outputs": [
    {
     "name": "stdout",
     "output_type": "stream",
     "text": [
      "Tamanho da imagem: (512, 512)\n"
     ]
    }
   ],
   "source": [
    "from PIL import Image\n",
    "import matplotlib.pyplot as plt\n",
    "import math\n",
    "from aes_encryption.encrypt_aes_code import *\n",
    "import numpy as np\n",
    "\n",
    "im = np.array(Image.open('./images/lenna_gray.png').convert('L'))\n",
    "\n",
    "#Adiciona um pixel a mais na coordenada [0,0]\n",
    "modified_im = im.copy()\n",
    "modified_im[0,0] = (modified_im[0,0]+1)%255\n",
    "print(f\"Tamanho da imagem: {im.shape}\")\n",
    "\n",
    "imb = np.array(im).tobytes()\n",
    "modified_imb = np.array(modified_im).tobytes()"
   ]
  },
  {
   "cell_type": "markdown",
   "metadata": {},
   "source": [
    "### Encrypt and Decrypt\n"
   ]
  },
  {
   "cell_type": "code",
   "execution_count": 5,
   "metadata": {},
   "outputs": [],
   "source": [
    "key = 1780731860627700044960722568376592200742329637303199754547598369979440671\n",
    "iv = 5233100606242806050955395731361295\n",
    "\n",
    "aes = AES(key, iv)\n",
    "\n",
    "encrypt_1 = aes.encrypt(imb)\n",
    "\n",
    "decrypt_1 = aes.decrypt(encrypt_1)\n",
    "\n",
    "encrypt_2 = aes.encrypt(modified_imb)\n",
    "\n",
    "decrypt_2 = aes.decrypt(encrypt_2)"
   ]
  },
  {
   "cell_type": "markdown",
   "metadata": {},
   "source": [
    "### UACI and NPCR Test"
   ]
  },
  {
   "cell_type": "code",
   "execution_count": 9,
   "metadata": {},
   "outputs": [
    {
     "name": "stdout",
     "output_type": "stream",
     "text": [
      "UACI: 33.43% | NPCR: 99.61%\n"
     ]
    }
   ],
   "source": [
    "from security_tests.differential_attacks import uaci_npcr_metrics\n",
    "\n",
    "encrypt_1 = np.frombuffer(encrypt_1, dtype=np.uint8)\n",
    "encrypt_2 = np.frombuffer(encrypt_2, dtype=np.uint8)\n",
    "\n",
    "uaci_npcr_metrics(encrypt_1, encrypt_2)"
   ]
  },
  {
   "cell_type": "markdown",
   "metadata": {},
   "source": [
    "### Speed Test"
   ]
  },
  {
   "cell_type": "code",
   "execution_count": null,
   "metadata": {},
   "outputs": [],
   "source": [
    "from security_tests.speed_test import SpeedTester\n",
    "\n",
    "# Note: If you only wish to test specific images, like avoiding the larger ones (2048 or 4096), \n",
    "# you can leave those lines commented, as shown above.\n",
    "im = {\n",
    "    256: np.array(Image.open('./images/cameraman_gray.png').convert('L')),\n",
    "    512: np.array(Image.open('./images/lenna_gray.png').convert('L')),\n",
    "    1024: np.array(Image.open('./images/airplaneU2.png').convert('L')),\n",
    "    2048: np.array(Image.open('./images/the_last_of_us.jpg').convert('L')),\n",
    "    4096: np.array(Image.open('./images/spiderman.jpg').convert('L')),\n",
    "}\n",
    "\n",
    "speed_tester = SpeedTester(images=im, keys=key, iv=iv)\n",
    "result = speed_tester.run_tests()\n",
    "speed_tester.plot_results(average_times=result)"
   ]
  },
  {
   "cell_type": "markdown",
   "metadata": {},
   "source": [
    "### NIST Test"
   ]
  },
  {
   "cell_type": "code",
   "execution_count": null,
   "metadata": {},
   "outputs": [],
   "source": [
    "from security_tests.nist_test.convert_image_to_bits import image_to_bits\n",
    "convert_image =  image_to_bits(encrypt_1, './security_tests/nist_test/bit_sequence.txt')\n",
    "\n",
    "%run ./security_tests/nist_test/nist_main.py"
   ]
  }
 ],
 "metadata": {
  "kernelspec": {
   "display_name": ".venv",
   "language": "python",
   "name": "python3"
  },
  "language_info": {
   "codemirror_mode": {
    "name": "ipython",
    "version": 3
   },
   "file_extension": ".py",
   "mimetype": "text/x-python",
   "name": "python",
   "nbconvert_exporter": "python",
   "pygments_lexer": "ipython3",
   "version": "3.12.7"
  }
 },
 "nbformat": 4,
 "nbformat_minor": 2
}
