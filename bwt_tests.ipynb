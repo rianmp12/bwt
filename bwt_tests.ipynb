{
 "cells": [
  {
   "cell_type": "markdown",
   "metadata": {},
   "source": [
    "## TEST - BWT"
   ]
  },
  {
   "cell_type": "markdown",
   "metadata": {},
   "source": [
    "### Load Image"
   ]
  },
  {
   "cell_type": "code",
   "execution_count": null,
   "metadata": {},
   "outputs": [],
   "source": [
    "import math\n",
    "import numpy as np\n",
    "from PIL import Image\n",
    "import matplotlib.pyplot as plt\n",
    "from bwt_encryption.bwt2dv2 import bwt2dv2\n",
    "from bwt_encryption.ibwt2dv2 import ibwt2dv2\n",
    "\n",
    "im = np.array(Image.open('./images/lenna_gray.png').convert('L'))\n",
    "\n",
    "# Adds one more pixel at coordinate [0,0]\n",
    "modified_im = im.copy()\n",
    "modified_im[0,0] = (modified_im[0,0] + 1) % 255\n",
    "plt.figure(figsize=(3,3))\n",
    "plt.imshow(im, cmap='gray',)\n",
    "print(f\"Image size: {im.shape}\")"
   ]
  },
  {
   "cell_type": "markdown",
   "metadata": {},
   "source": [
    "### Encrypt and Decrypt"
   ]
  },
  {
   "cell_type": "code",
   "execution_count": null,
   "metadata": {},
   "outputs": [],
   "source": [
    "keys = [0.967198510247, 0.294368563711, 0.867612365755, 0.545395617916]\n",
    "\n",
    "encrypt_1 = ibwt2dv2(im=im, keys=keys)\n",
    "\n",
    "decrypt_1 = bwt2dv2(im=encrypt_1, keys=keys)\n",
    "\n",
    "encrypt_2 = ibwt2dv2(im=modified_im, keys=keys)\n",
    "\n",
    "decrypt_2 = bwt2dv2(im=encrypt_2, keys=keys)"
   ]
  },
  {
   "cell_type": "markdown",
   "metadata": {},
   "source": [
    "### Preview"
   ]
  },
  {
   "cell_type": "code",
   "execution_count": null,
   "metadata": {},
   "outputs": [],
   "source": [
    "fig, axs = plt.subplots(1, 4, figsize=(10, 6))\n",
    "images = [(encrypt_1, 'Encrypted - Original'), \n",
    "          (encrypt_2, 'Encrypted - Modified'), \n",
    "          (decrypt_1, 'Decrypted - Original'), \n",
    "          (decrypt_2, 'Decrypted - Modified')]\n",
    "\n",
    "for ax, (img, title) in zip(axs, images):\n",
    "    ax.imshow(img, cmap='gray')\n",
    "    ax.set_title(title, fontsize=10)\n",
    "    ax.axis('off')\n",
    "\n",
    "plt.tight_layout()\n",
    "plt.show()"
   ]
  },
  {
   "cell_type": "markdown",
   "metadata": {},
   "source": [
    "### UACI and NPCR Test"
   ]
  },
  {
   "cell_type": "code",
   "execution_count": null,
   "metadata": {},
   "outputs": [],
   "source": [
    "from security_tests.differential_attacks import uaci_npcr_metrics\n",
    "uaci_npcr_metrics(encrypt_1, encrypt_2)"
   ]
  },
  {
   "cell_type": "markdown",
   "metadata": {},
   "source": [
    "### Histogram Analysis"
   ]
  },
  {
   "cell_type": "code",
   "execution_count": null,
   "metadata": {},
   "outputs": [],
   "source": [
    "from security_tests.statistic import analyze_encryption_statistics\n",
    "analyze_encryption_statistics(im, encrypt_1)"
   ]
  },
  {
   "cell_type": "markdown",
   "metadata": {},
   "source": [
    "### MSE and SSIM Test"
   ]
  },
  {
   "cell_type": "code",
   "execution_count": null,
   "metadata": {},
   "outputs": [],
   "source": [
    "from security_tests.key_sensitivity import evaluate_key_sensitivity\n",
    "evaluate_key_sensitivity(\n",
    "    original_image=im, \n",
    "    encrypted_image=encrypt_1, \n",
    "    original_key=keys, \n",
    "    decrypt_function=bwt2dv2, \n",
    "    num_variations=100\n",
    ")"
   ]
  },
  {
   "cell_type": "markdown",
   "metadata": {},
   "source": [
    "### NIST Test"
   ]
  },
  {
   "cell_type": "markdown",
   "metadata": {},
   "source": [
    "Converte imagem criptografada para binário e executa a bateria de testes."
   ]
  },
  {
   "cell_type": "code",
   "execution_count": null,
   "metadata": {},
   "outputs": [],
   "source": [
    "from security_tests.nist_test.convert_image_to_bits import image_to_bits\n",
    "convert_image =  image_to_bits(encrypt_1, './security_tests/nist_test/bit_sequence.txt')\n",
    "%run ./security_tests/nist_test/nist_main.py"
   ]
  },
  {
   "cell_type": "markdown",
   "metadata": {},
   "source": [
    "### Speed Test"
   ]
  },
  {
   "cell_type": "code",
   "execution_count": null,
   "metadata": {},
   "outputs": [],
   "source": [
    "from security_tests.speed_test import SpeedTester\n",
    "\n",
    "# Note: If you only wish to test specific images, like avoiding the larger ones (2048 or 4096), \n",
    "# you can leave those lines commented, as shown above.\n",
    "im = {\n",
    "    256: np.array(Image.open('./images/cameraman_gray.png').convert('L')),\n",
    "    512: np.array(Image.open('./images/lenna_gray.png').convert('L')),\n",
    "    1024: np.array(Image.open('./images/airplaneU2.png').convert('L')),\n",
    "    2048: np.array(Image.open('./images/the_last_of_us.jpg').convert('L')),\n",
    "    4096: np.array(Image.open('./images/sun_gray.png').convert('L')),\n",
    "}\n",
    "\n",
    "speed_tester = SpeedTester(images=im, encrypt_function=ibwt2dv2, keys=keys, num_rounds=2)\n",
    "result =speed_tester.run_tests()\n",
    "speed_tester.plot_results(average_times=result)"
   ]
  },
  {
   "cell_type": "markdown",
   "metadata": {},
   "source": [
    "## Mean Metrics using a Dataset"
   ]
  },
  {
   "cell_type": "markdown",
   "metadata": {},
   "source": [
    "### UACI and NPCR Mean"
   ]
  },
  {
   "cell_type": "code",
   "execution_count": null,
   "metadata": {},
   "outputs": [],
   "source": [
    "\n",
    "from security_tests.differential_attacks import process_images\n",
    "directory = './dataset/512/'\n",
    "process_images(directory=directory, \n",
    "               keys=keys, \n",
    "               rounds=2, \n",
    "               encrypt_function=ibwt2dv2, \n",
    "               limit=None)"
   ]
  }
 ],
 "metadata": {
  "kernelspec": {
   "display_name": ".venv",
   "language": "python",
   "name": "python3"
  },
  "language_info": {
   "codemirror_mode": {
    "name": "ipython",
    "version": 3
   },
   "file_extension": ".py",
   "mimetype": "text/x-python",
   "name": "python",
   "nbconvert_exporter": "python",
   "pygments_lexer": "ipython3",
   "version": "3.12.7"
  }
 },
 "nbformat": 4,
 "nbformat_minor": 2
}
